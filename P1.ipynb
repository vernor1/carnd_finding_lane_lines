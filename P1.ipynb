{
 "cells": [
  {
   "cell_type": "markdown",
   "metadata": {},
   "source": [
    "Below are some helper functions to help get you started. They should look familiar from the lesson!"
   ]
  },
  {
   "cell_type": "markdown",
   "metadata": {},
   "source": [
    "**Some OpenCV functions (beyond those introduced in the lesson) that might be useful for this project are:**\n",
    "\n",
    "`cv2.inRange()` for color selection  \n",
    "`cv2.fillPoly()` for regions selection  \n",
    "`cv2.line()` to draw lines on an image given endpoints  \n",
    "`cv2.addWeighted()` to coadd / overlay two images\n",
    "`cv2.cvtColor()` to grayscale or change color\n",
    "`cv2.imwrite()` to output images to file  \n",
    "`cv2.bitwise_and()` to apply a mask to an image\n",
    "\n",
    "**Check out the OpenCV documentation to learn about these and discover even more awesome functionality!**"
   ]
  },
  {
   "cell_type": "markdown",
   "metadata": {},
   "source": [
    "# **Finding Lane Lines on the Road** \n",
    "***\n",
    "In this project, you will use the tools you learned about in the lesson to identify lane lines on the road.  You can develop your pipeline on a series of individual images, and later apply the result to a video stream (really just a series of images). Check out the video clip \"raw-lines-example.mp4\" (also contained in this repository) to see what the output should look like after using the helper functions below. \n",
    "\n",
    "Once you have a result that looks roughly like \"raw-lines-example.mp4\", you'll need to get creative and try to average and/or extrapolate the line segments you've detected to map out the full extent of the lane lines.  You can see an example of the result you're going for in the video \"P1_example.mp4\".  Ultimately, you would like to draw just one line for the left side of the lane, and one for the right.\n",
    "\n",
    "---\n",
    "Let's have a look at our first image called 'test_images/solidWhiteRight.jpg'.  Run the 2 cells below (hit Shift-Enter or the \"play\" button above) to display the image.\n",
    "\n",
    "**Note** If, at any point, you encounter frozen display windows or other confounding issues, you can always start again with a clean slate by going to the \"Kernel\" menu above and selecting \"Restart & Clear Output\".\n",
    "\n",
    "---"
   ]
  },
  {
   "cell_type": "markdown",
   "metadata": {},
   "source": [
    "**The tools you have are color selection, region of interest selection, grayscaling, Gaussian smoothing, Canny Edge Detection and Hough Tranform line detection.  You  are also free to explore and try other techniques that were not presented in the lesson.  Your goal is piece together a pipeline to detect the line segments in the image, then average/extrapolate them and draw them onto the image for display (as below).  Once you have a working pipeline, try it out on the video stream below.**\n",
    "\n",
    "---\n",
    "\n",
    "<figure>\n",
    " <img src=\"line-segments-example.jpg\" width=\"380\" alt=\"Combined Image\" />\n",
    " <figcaption>\n",
    " <p></p> \n",
    " <p style=\"text-align: center;\"> Your output should look something like this (above) after detecting line segments using the helper functions below </p> \n",
    " </figcaption>\n",
    "</figure>\n",
    " <p></p> \n",
    "<figure>\n",
    " <img src=\"laneLines_thirdPass.jpg\" width=\"380\" alt=\"Combined Image\" />\n",
    " <figcaption>\n",
    " <p></p> \n",
    " <p style=\"text-align: center;\"> Your goal is to connect/average/extrapolate line segments to get output like this</p> \n",
    " </figcaption>\n",
    "</figure>"
   ]
  },
  {
   "cell_type": "code",
   "execution_count": null,
   "metadata": {
    "collapsed": false
   },
   "outputs": [],
   "source": [
    "#importing some useful packages\n",
    "import matplotlib.pyplot as plt\n",
    "import matplotlib.image as mpimg\n",
    "import numpy as np\n",
    "import cv2\n",
    "%matplotlib inline"
   ]
  },
  {
   "cell_type": "code",
   "execution_count": null,
   "metadata": {
    "collapsed": false
   },
   "outputs": [],
   "source": [
    "#reading in an image\n",
    "image = mpimg.imread('test_images/solidWhiteRight.jpg')\n",
    "#printing out some stats and plotting\n",
    "print('This image is:', type(image), 'with dimesions:', image.shape)\n",
    "plt.imshow(image)  #call as plt.imshow(gray, cmap='gray') to show a grayscaled image"
   ]
  },
  {
   "cell_type": "code",
   "execution_count": null,
   "metadata": {
    "collapsed": false
   },
   "outputs": [],
   "source": [
    "import math\n",
    "from scipy import stats\n",
    "\n",
    "# Lane lines of a previous frame in slope, intercept\n",
    "prev_l_line = (0, 0)\n",
    "prev_r_line = (0, 0)\n",
    "\n",
    "def bleach_yellow(img):\n",
    "    \"\"\"\n",
    "    The function overlays white mask over all yellow pixels of the given image\n",
    "    \"\"\"\n",
    "    hsvImg = cv2.cvtColor(img, cv2.COLOR_BGR2HSV)\n",
    "    lower_yellow = np.array([80,100,100])\n",
    "    upper_yellow = np.array([100,255,255])\n",
    "    ret, grayWhiteMask = cv2.threshold(\n",
    "                            cv2.cvtColor(\n",
    "                                cv2.cvtColor(\n",
    "                                    cv2.bitwise_or(\n",
    "                                        hsvImg,\n",
    "                                        hsvImg,\n",
    "                                        mask=cv2.inRange(hsvImg, lower_yellow, upper_yellow)),\n",
    "                                    cv2.COLOR_HSV2BGR),\n",
    "                                cv2.COLOR_BGR2GRAY),\n",
    "                            1, 255, cv2.THRESH_BINARY)\n",
    "    return cv2.bitwise_or(img, cv2.cvtColor(grayWhiteMask, cv2.COLOR_GRAY2BGR))\n",
    "\n",
    "def grayscale(img):\n",
    "    \"\"\"Applies the Grayscale transform\n",
    "    This will return an image with only one color channel\n",
    "    but NOTE: to see the returned image as grayscale\n",
    "    you should call plt.imshow(gray, cmap='gray')\"\"\"\n",
    "    return cv2.cvtColor(img, cv2.COLOR_BGR2GRAY)\n",
    "    \n",
    "def canny(img, low_threshold, high_threshold):\n",
    "    \"\"\"Applies the Canny transform\"\"\"\n",
    "    return cv2.Canny(img, low_threshold, high_threshold)\n",
    "\n",
    "def gaussian_blur(img, kernel_size):\n",
    "    \"\"\"Applies a Gaussian Noise kernel\"\"\"\n",
    "    return cv2.GaussianBlur(img, (kernel_size, kernel_size), 0)\n",
    "\n",
    "def region_of_interest(img, vertices):\n",
    "    \"\"\"\n",
    "    Applies an image mask.\n",
    "    \n",
    "    Only keeps the region of the image defined by the polygon\n",
    "    formed from `vertices`. The rest of the image is set to black.\n",
    "    \"\"\"\n",
    "    #defining a blank mask to start with\n",
    "    mask = np.zeros_like(img)   \n",
    "    \n",
    "    #defining a 3 channel or 1 channel color to fill the mask with depending on the input image\n",
    "    if len(img.shape) > 2:\n",
    "        channel_count = img.shape[2]  # i.e. 3 or 4 depending on your image\n",
    "        ignore_mask_color = (255,) * channel_count\n",
    "    else:\n",
    "        ignore_mask_color = 255\n",
    "        \n",
    "    #filling pixels inside the polygon defined by \"vertices\" with the fill color    \n",
    "    cv2.fillPoly(mask, vertices, ignore_mask_color)\n",
    "    \n",
    "    #returning the image only where mask pixels are nonzero\n",
    "    masked_image = cv2.bitwise_and(img, mask)\n",
    "    return masked_image\n",
    "\n",
    "def screen_lines(lines, min_slope=0.55):\n",
    "    \"\"\"\n",
    "    This is a debug fuction returning all lines matching the given slope criteria.\n",
    "    NOTE: It's not used in the project.\n",
    "    \"\"\"\n",
    "    print(\"Screen lines:\")\n",
    "    screened_lines = []\n",
    "    for line in lines:\n",
    "        for x1, y1, x2, y2 in line:\n",
    "            slope = (y2 - y1) / (x2 - x1)\n",
    "            print(\"    (%d,%d)-(%d,%d), slope %f\" % (x1, y1, x2, y2, slope))\n",
    "            if abs(slope) > min_slope:\n",
    "                if y2 < y1:\n",
    "                    screened_lines.append((x1, y1, x2, y2))\n",
    "                else:\n",
    "                    screened_lines.append((x2, y2, x1, y1))\n",
    "    \n",
    "    return screened_lines\n",
    "\n",
    "def get_side_lines(lines, min_slope=0.55):\n",
    "    \"\"\"\n",
    "    Takes an array of unordered lines and returns the left and right lines as slope/intercept tuples.\n",
    "\n",
    "    Input parameter min_slope indicates the minimum absolute slope of lane lines.\n",
    "    \"\"\"\n",
    "    left_x = []\n",
    "    left_y = []\n",
    "    right_x = []\n",
    "    right_y = []\n",
    "    # Uncomment for debugging.\n",
    "    #print(\"Get side lines:\")\n",
    "    for line in lines:\n",
    "        for x1, y1, x2, y2 in line:\n",
    "            if x1 == x2:\n",
    "                delta_x = 1e-6\n",
    "            else:\n",
    "                delta_x = x2 - x1\n",
    "            slope = (y2 - y1) / delta_x\n",
    "            # Uncomment for debugging.\n",
    "            #print(\"    (%d,%d)-(%d,%d), slope %f\" % (x1, y1, x2, y2, slope))\n",
    "            if abs(slope) > min_slope:\n",
    "                if y2 < y1:\n",
    "                    left_x.extend((x1, x2))\n",
    "                    left_y.extend((y1, y2))\n",
    "                else:\n",
    "                    right_x.extend((x2, x1))\n",
    "                    right_y.extend((y2, y1))\n",
    "    if left_x:\n",
    "        l_slope, l_intercept, r_value, p_value, std_err = stats.linregress(left_x, left_y)\n",
    "    else:\n",
    "        l_slope, l_intercept = (0, 0)\n",
    "        \n",
    "    if right_x:\n",
    "        r_slope, r_intercept, r_value, p_value, std_err = stats.linregress(right_x, right_y)\n",
    "    else:\n",
    "        r_slope, r_intercept = (0, 0)\n",
    "    \n",
    "    return (l_slope, l_intercept), (r_slope, r_intercept)\n",
    "\n",
    "def average_lines(l_line, r_line, a=0.1):\n",
    "    \"\"\"\n",
    "    The function returns averaged lines as a weighted sum of current line koefficients and the line koefficients of\n",
    "    the previous call.\n",
    "    \"\"\"\n",
    "    global prev_l_line\n",
    "    global prev_r_line\n",
    "    \n",
    "    if prev_l_line == (0, 0) or prev_r_line == (0, 0):\n",
    "        prev_l_line = l_line\n",
    "        prev_r_line = r_line\n",
    "    else:\n",
    "        if l_line == (0, 0):\n",
    "            l_line = prev_l_line\n",
    "        else:\n",
    "            l_line = a * l_line[0] + (1 - a) * prev_l_line[0], \\\n",
    "                     a * l_line[1] + (1 - a) * prev_l_line[1]\n",
    "            prev_l_line = l_line\n",
    "\n",
    "        if r_line == (0, 0):\n",
    "            r_line = prev_r_line\n",
    "        else:\n",
    "            r_line = a * r_line[0] + (1 - a) * prev_r_line[0], \\\n",
    "                     a * r_line[1] + (1 - a) * prev_r_line[1]\n",
    "            prev_r_line = r_line\n",
    "\n",
    "    return l_line, r_line\n",
    "\n",
    "def draw_lines(img, lines, near_sight, far_sight, color=[255, 0, 0], thickness=2):\n",
    "    \"\"\"\n",
    "    NOTE: this is the function you might want to use as a starting point once you want to \n",
    "    average/extrapolate the line segments you detect to map out the full\n",
    "    extent of the lane (going from the result shown in raw-lines-example.mp4\n",
    "    to that shown in P1_example.mp4).  \n",
    "    \n",
    "    Think about things like separating line segments by their \n",
    "    slope ((y2-y1)/(x2-x1)) to decide which segments are part of the left\n",
    "    line vs. the right line.  Then, you can average the position of each of \n",
    "    the lines and extrapolate to the top and bottom of the lane.\n",
    "    \n",
    "    This function draws `lines` with `color` and `thickness`.    \n",
    "    Lines are drawn on the image inplace (mutates the image).\n",
    "    If you want to make the lines semi-transparent, think about combining\n",
    "    this function with the weighted_img() function below\n",
    "    \n",
    "    Input parameters near_sight and far_sight indicate the near and far distance constraints.\n",
    "    \"\"\"\n",
    "    # Uncomment for debugging.\n",
    "    #screened_lines = screen_lines(lines)\n",
    "    #for line in screened_lines:\n",
    "    #    cv2.line(img, (line[0], line[1]), (line[2], line[3]), [0, 255, 0], 1)\n",
    "\n",
    "    l_line, r_line = get_side_lines(lines)\n",
    "    l_line, r_line = average_lines(l_line, r_line)\n",
    "\n",
    "    # The variable indicates the desired reduction in px of the lane lines to prevent them from crossing.\n",
    "    # That is usefull to have the mask bigger than practical view, but it may cause crossing of the lane lines.\n",
    "    length_reduction = 32\n",
    "\n",
    "    left_y1 = near_sight\n",
    "    if l_line[0] != 0:\n",
    "        l_line_slope = l_line[0]\n",
    "    else:\n",
    "        l_line_slope = 1e-6\n",
    "\n",
    "    left_x1 = int((left_y1 - l_line[1]) / l_line_slope)\n",
    "    left_y2 = far_sight + length_reduction\n",
    "    left_x2 = int((left_y2 - l_line[1]) / l_line_slope)\n",
    "    cv2.line(img, (left_x1, left_y1), (left_x2, left_y2), color, thickness)\n",
    "\n",
    "    right_y1 = near_sight\n",
    "    if r_line[0] != 0:\n",
    "        r_line_slope = r_line[0]\n",
    "    else:\n",
    "        r_line_slope = 1e-6\n",
    "\n",
    "    right_x1 = int((right_y1 - r_line[1]) / r_line_slope)\n",
    "    right_y2 = far_sight + length_reduction\n",
    "    right_x2 = int((right_y2 - r_line[1]) / r_line_slope)\n",
    "    cv2.line(img, (right_x1, right_y1), (right_x2, right_y2), color, thickness)\n",
    "\n",
    "def hough_lines(img, rho, theta, threshold, min_line_len, max_line_gap, near_sight, far_sight):\n",
    "    \"\"\"\n",
    "    `img` should be the output of a Canny transform.\n",
    "    \n",
    "    Input parameters near_sight and far_sight indicate the near and far distance constraints.\n",
    "    \n",
    "    Returns an image with hough lines drawn.\n",
    "    \"\"\"\n",
    "    lines = cv2.HoughLinesP(img, rho, theta, threshold, np.array([]), minLineLength=min_line_len, maxLineGap=max_line_gap)\n",
    "    line_img = np.zeros((*img.shape, 3), dtype=np.uint8)\n",
    "    draw_lines(line_img, lines, near_sight, far_sight, [255, 0, 0], 8)\n",
    "    return line_img\n",
    "\n",
    "# Python 3 has support for cool math symbols.\n",
    "\n",
    "def weighted_img(img, initial_img, α=0.8, β=1., λ=0.):\n",
    "    \"\"\"\n",
    "    `img` is the output of the hough_lines(), An image with lines drawn on it.\n",
    "    Should be a blank image (all black) with lines drawn on it.\n",
    "    \n",
    "    `initial_img` should be the image before any processing.\n",
    "    \n",
    "    The result image is computed as follows:\n",
    "    \n",
    "    initial_img * α + img * β + λ\n",
    "    NOTE: initial_img and img must be the same shape!\n",
    "    \"\"\"\n",
    "    return cv2.addWeighted(initial_img, α, img, β, λ)\n",
    "\n",
    "def overlay_lines(img, trapezoid_mask):\n",
    "    \"\"\"\n",
    "    Adds translucent red lines indicating the lane lines to the given image.\n",
    "    \n",
    "    Input parameter  trapezoid_mask indicates the trapezoid mask cordinates.\n",
    "    \"\"\"\n",
    "    vertices = np.array([[trapezoid_mask[0],\n",
    "                          trapezoid_mask[1],\n",
    "                          trapezoid_mask[2],\n",
    "                          trapezoid_mask[3]]], dtype=np.int32)\n",
    "    lines = hough_lines(\n",
    "        region_of_interest(\n",
    "            canny(\n",
    "                gaussian_blur(\n",
    "                    grayscale(bleach_yellow(img)),\n",
    "                    5),\n",
    "                50,\n",
    "                150),\n",
    "            vertices),\n",
    "        1, np.pi/180, 35, 40, 20, trapezoid_mask[0][1], trapezoid_mask[1][1])\n",
    "    \n",
    "    return weighted_img(lines, img)"
   ]
  },
  {
   "cell_type": "markdown",
   "metadata": {},
   "source": [
    "## Test on Images\n",
    "\n",
    "Now you should build your pipeline to work on the images in the directory \"test_images\"  \n",
    "**You should make sure your pipeline works well on these images before you try the videos.**"
   ]
  },
  {
   "cell_type": "code",
   "execution_count": null,
   "metadata": {
    "collapsed": false
   },
   "outputs": [],
   "source": [
    "import os\n",
    "\n",
    "imgDir = \"test_images/\"\n",
    "imgFiles = os.listdir(imgDir)\n",
    "\n",
    "for imgFile in imgFiles:\n",
    "    if '.jpg' in imgFile and 'lines_' not in imgFile:\n",
    "        prev_l_line = (0, 0)\n",
    "        prev_r_line = (0, 0)\n",
    "        image = mpimg.imread(imgDir + imgFile)\n",
    "        imshape = image.shape\n",
    "        print(imgFile, ':', type(image), 'with dimesions:', imshape)\n",
    "        trapezoid_mask = ((0, imshape[0]),\n",
    "                          (int(imshape[1] / 2 - 20), int(imshape[0] / 2 + 20)),\n",
    "                          (int(imshape[1] / 2 + 20), int(imshape[0] / 2 + 20)),\n",
    "                          (imshape[1], imshape[0]))\n",
    "        mpimg.imsave((imgDir + 'lines_' + imgFile), overlay_lines(image, trapezoid_mask))"
   ]
  },
  {
   "cell_type": "markdown",
   "metadata": {},
   "source": [
    "run your solution on all test_images and make copies into the test_images directory)."
   ]
  },
  {
   "cell_type": "markdown",
   "metadata": {},
   "source": [
    "## Test on Videos\n",
    "\n",
    "You know what's cooler than drawing lanes over images? Drawing lanes over video!\n",
    "\n",
    "We can test our solution on two provided videos:\n",
    "\n",
    "`solidWhiteRight.mp4`\n",
    "\n",
    "`solidYellowLeft.mp4`"
   ]
  },
  {
   "cell_type": "code",
   "execution_count": null,
   "metadata": {
    "collapsed": false
   },
   "outputs": [],
   "source": [
    "# Import everything needed to edit/save/watch video clips\n",
    "from moviepy.editor import VideoFileClip\n",
    "from IPython.display import HTML\n",
    "from functools import partial"
   ]
  },
  {
   "cell_type": "code",
   "execution_count": null,
   "metadata": {
    "collapsed": true
   },
   "outputs": [],
   "source": [
    "def process_image(trapezoid_mask, image):\n",
    "    # NOTE: The output you return should be a color image (3 channel) for processing video below\n",
    "    # TODO: put your pipeline here,\n",
    "    # you should return the final output (image with lines are drawn on lanes)\n",
    "\n",
    "#    The commented out code is for debug puroses.\n",
    "#    global img_nbr\n",
    "#    img_nbr += 1\n",
    "#    img_name = \"challenge/image%04d.jpg\" % img_nbr\n",
    "#    print(img_name)\n",
    "#    result = overlay_lines(image, trapezoid_mask)\n",
    "#    mpimg.imsave(img_name, result)\n",
    "#    return result\n",
    "\n",
    "    return overlay_lines(image, trapezoid_mask)"
   ]
  },
  {
   "cell_type": "markdown",
   "metadata": {},
   "source": [
    "Let's try the one with the solid white lane on the right first ..."
   ]
  },
  {
   "cell_type": "code",
   "execution_count": null,
   "metadata": {
    "collapsed": false
   },
   "outputs": [],
   "source": [
    "prev_l_line = (0, 0)\n",
    "prev_r_line = (0, 0)\n",
    "white_output = 'white.mp4'\n",
    "clip1 = VideoFileClip(\"solidWhiteRight.mp4\")\n",
    "trapezoid_mask = ((0, clip1.size[1]),\n",
    "                  (int(clip1.size[0] / 2 - 20), int(clip1.size[1] / 2 + 20)),\n",
    "                  (int(clip1.size[0] / 2 + 20), int(clip1.size[1] / 2 + 20)),\n",
    "                  (clip1.size[0], clip1.size[1]))\n",
    "custom_process_image = partial(process_image, trapezoid_mask)\n",
    "white_clip = clip1.fl_image(custom_process_image) #NOTE: this function expects color images!!\n",
    "%time white_clip.write_videofile(white_output, audio=False)"
   ]
  },
  {
   "cell_type": "markdown",
   "metadata": {},
   "source": [
    "Play the video inline, or if you prefer find the video in your filesystem (should be in the same directory) and play it in your video player of choice."
   ]
  },
  {
   "cell_type": "code",
   "execution_count": null,
   "metadata": {
    "collapsed": false
   },
   "outputs": [],
   "source": [
    "HTML(\"\"\"\n",
    "<video width=\"960\" height=\"540\" controls>\n",
    "  <source src=\"{0}\">\n",
    "</video>\n",
    "\"\"\".format(white_output))"
   ]
  },
  {
   "cell_type": "markdown",
   "metadata": {},
   "source": [
    "**At this point, if you were successful you probably have the Hough line segments drawn onto the road, but what about identifying the full extent of the lane and marking it clearly as in the example video (P1_example.mp4)?  Think about defining a line to run the full length of the visible lane based on the line segments you identified with the Hough Transform.  Modify your draw_lines function accordingly and try re-running your pipeline.**"
   ]
  },
  {
   "cell_type": "markdown",
   "metadata": {},
   "source": [
    "Now for the one with the solid yellow lane on the left. This one's more tricky!"
   ]
  },
  {
   "cell_type": "code",
   "execution_count": null,
   "metadata": {
    "collapsed": false
   },
   "outputs": [],
   "source": [
    "prev_l_line = (0, 0)\n",
    "prev_r_line = (0, 0)\n",
    "yellow_output = 'yellow.mp4'\n",
    "clip2 = VideoFileClip('solidYellowLeft.mp4')\n",
    "trapezoid_mask = ((0, clip2.size[1]),\n",
    "                  (int(clip2.size[0] / 2 - 20), int(clip2.size[1] / 2 + 20)),\n",
    "                  (int(clip2.size[0] / 2 + 20), int(clip2.size[1] / 2 + 20)),\n",
    "                  (clip2.size[0], clip2.size[1]))\n",
    "custom_process_image = partial(process_image, trapezoid_mask)\n",
    "yellow_clip = clip2.fl_image(custom_process_image)\n",
    "%time yellow_clip.write_videofile(yellow_output, audio=False)"
   ]
  },
  {
   "cell_type": "code",
   "execution_count": null,
   "metadata": {
    "collapsed": false
   },
   "outputs": [],
   "source": [
    "HTML(\"\"\"\n",
    "<video width=\"960\" height=\"540\" controls>\n",
    "  <source src=\"{0}\">\n",
    "</video>\n",
    "\"\"\".format(yellow_output))"
   ]
  },
  {
   "cell_type": "markdown",
   "metadata": {},
   "source": [
    "## Reflections\n",
    "\n",
    "Congratulations on finding the lane lines!  As the final step in this project, we would like you to share your thoughts on your lane finding pipeline... specifically, how could you imagine making your algorithm better / more robust?  Where will your current algorithm be likely to fail?\n",
    "\n",
    "Please add your thoughts below,  and if you're up for making your pipeline more robust, be sure to scroll down and check out the optional challenge video below!\n",
    "\n",
    "\n",
    "[YM] Challenge accepted! The current pipeline is using linear reggession to interpolate the points of detected line segments to two lane lines - left and right. I think that a better solution should interpolate the detected points with a cubic spline. Besides the road curves, the most challenging part of the problem was the concrete bridge in challenge.mp4. The pipeline is bleaching the yellow median line on the bridge in order to improve the line gradient. However the pipeline doesn't handle well the black rubber marks on the light bridge surface, while the edges of the marks have a higher gradient than the yellow median line, so they are falsely detected as lane lines. I'm not yet sure how to solve the problem, perhaps by discarding line segments located far from the regions where most of the line segments are detected or where the lines have been detected in previous frames."
   ]
  },
  {
   "cell_type": "markdown",
   "metadata": {},
   "source": [
    "## Submission\n",
    "\n",
    "If you're satisfied with your video outputs it's time to submit!  Submit this ipython notebook for review.\n"
   ]
  },
  {
   "cell_type": "markdown",
   "metadata": {
    "collapsed": true
   },
   "source": [
    "## Optional Challenge\n",
    "\n",
    "Try your lane finding pipeline on the video below.  Does it still work?  Can you figure out a way to make it more robust?  If you're up for the challenge, modify your pipeline so it works with this video and submit it along with the rest of your project!"
   ]
  },
  {
   "cell_type": "code",
   "execution_count": null,
   "metadata": {
    "collapsed": false
   },
   "outputs": [],
   "source": [
    "# The commented out global variable is for debug purposes. It indicates the current frame number for saving\n",
    "# to disk as a picture.\n",
    "#img_nbr = 0\n",
    "prev_l_line = (0, 0)\n",
    "prev_r_line = (0, 0)\n",
    "challenge_output = 'extra.mp4'\n",
    "clip2 = VideoFileClip('challenge.mp4')\n",
    "trapezoid_mask = ((0, clip2.size[1] - 45),\n",
    "                  (int(clip2.size[0] / 2 - 30), int(clip2.size[1] / 2 + 50)),\n",
    "                  (int(clip2.size[0] / 2 + 30), int(clip2.size[1] / 2 + 50)),\n",
    "                  (clip2.size[0], clip2.size[1] - 45))\n",
    "custom_process_image = partial(process_image, trapezoid_mask)\n",
    "challenge_clip = clip2.fl_image(custom_process_image)\n",
    "%time challenge_clip.write_videofile(challenge_output, audio=False)"
   ]
  },
  {
   "cell_type": "code",
   "execution_count": null,
   "metadata": {
    "collapsed": false
   },
   "outputs": [],
   "source": [
    "HTML(\"\"\"\n",
    "<video width=\"960\" height=\"540\" controls>\n",
    "  <source src=\"{0}\">\n",
    "</video>\n",
    "\"\"\".format(challenge_output))"
   ]
  },
  {
   "cell_type": "code",
   "execution_count": null,
   "metadata": {
    "collapsed": true
   },
   "outputs": [],
   "source": []
  }
 ],
 "metadata": {
  "anaconda-cloud": {},
  "kernelspec": {
   "display_name": "Python 3",
   "language": "python",
   "name": "python3"
  },
  "language_info": {
   "codemirror_mode": {
    "name": "ipython",
    "version": 3
   },
   "file_extension": ".py",
   "mimetype": "text/x-python",
   "name": "python",
   "nbconvert_exporter": "python",
   "pygments_lexer": "ipython3",
   "version": "3.5.2"
  }
 },
 "nbformat": 4,
 "nbformat_minor": 0
}
